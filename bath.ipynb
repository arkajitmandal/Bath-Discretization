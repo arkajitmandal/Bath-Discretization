{
 "cells": [
  {
   "cell_type": "markdown",
   "metadata": {},
   "source": [
    "## Discretize an Arbitrary Spectral Density \n",
    "\n",
    "One simple prescription (although may not be the most optimized solution) [see Walters, Allen, Makri J. Comp Chem. 10.1002/jcc.24527]. Note that here we are using the definition for $J(\\omega) = \\frac{\\pi}{2} \\sum_{i} \\frac{c_i^2}{\\omega_i} \\delta(\\omega - \\omega_i)$ (and other works might use a different definition).\n",
    "$$\n",
    "\\begin{align}\n",
    "{1\\over \\pi}\\int_{0}^{\\omega_j} {J(\\omega) \\over \\omega }d \\omega =  {j-1/2\\over N} \\lambda \n",
    "\\end{align}\n",
    "$$\n",
    "\n",
    "$$\n",
    "\\begin{align}\n",
    "{1\\over \\pi}\\int_{0}^{\\omega_{max}} {J(\\omega) \\over \\omega }d \\omega =   \\lambda \n",
    "\\end{align}\n",
    "$$\n",
    "where $\\omega_{max}$ is a maximum cutoff for the frequency. "
   ]
  },
  {
   "cell_type": "markdown",
   "metadata": {},
   "source": [
    "We define\n",
    "$$\n",
    " \\begin{align}\n",
    " {1\\over \\pi}\\int_{0}^{\\omega_j} {J(\\omega) \\over \\omega }d \\omega \\equiv F_{\\omega} (\\omega_j)\n",
    " \\end{align}\n",
    " $$\n"
   ]
  },
  {
   "cell_type": "markdown",
   "metadata": {},
   "source": [
    "So $\\omega_j$ is obtained by numerically solving the following equation (note $m_j = 1.0$),\n",
    "  $$\n",
    "  \\begin{align}\n",
    "  F_{\\omega} (\\omega_j) -  {j-1/2\\over N} \\lambda = 0\n",
    "  \\end{align} $$\n",
    "  Meanwhile the $c_j$ is obtained by \n",
    "    $$ \\begin{align}\n",
    "  c_j =  \\omega_j \\sqrt{ 2{\\lambda \\over N} m_j  } \\\\\n",
    "  \\end{align}  $$"
   ]
  },
  {
   "cell_type": "markdown",
   "metadata": {},
   "source": [
    "although here we will use $m_j = 1$"
   ]
  },
  {
   "cell_type": "markdown",
   "metadata": {},
   "source": [
    "# Code to Numerically Discretize : Version 1 \n",
    "\n",
    "Note that here we numerically integrate $J(\\omega)/\\omega$ to obtain $F_\\omega(\\omega)$. See Version 2 below where you can have an available analyitical expression for $F_\\omega(\\omega)$. "
   ]
  },
  {
   "cell_type": "code",
   "execution_count": 2,
   "metadata": {},
   "outputs": [],
   "source": [
    "import numpy as np\n",
    "from numpy import pi as π\n",
    "# N is the number of discrete mode you want\n",
    "# J is the function of ω \n",
    "# ω is the range of frequencies that is used to numerically integrate.\n",
    "\n",
    "def discretize1(N, J, ω = np.linspace(0.00001,0.1,10000)/27.2114):\n",
    "    dω = ω[1] - ω[0]\n",
    "    Jω = J(ω)\n",
    "    Fω = np.zeros((len(ω)))\n",
    "    for iω in range(len(ω)):\n",
    "        Fω[iω] = (1.0/π) * np.sum( Jω[:iω]/ω[:iω] ) * dω\n",
    "    λs = Fω[-1] \n",
    "    #print (λs * 27.2114)\n",
    "    ωj = np.zeros((N))\n",
    "    cj = np.zeros((N))\n",
    "    for i in range(N):\n",
    "        j = i+1\n",
    "        ωj[i] = ω[np.argmin(np.abs(Fω - ((j-0.5)/N) *  λs))] \n",
    "        cj[i] =  ωj[i] * (2 * λs/ N)**0.5 \n",
    "    return ωj, cj"
   ]
  },
  {
   "cell_type": "markdown",
   "metadata": {},
   "source": [
    "# Example 1\n",
    "## Fitting Superohmic Spectral Density: Typically used for (LA) phonon\n",
    "$f(x) = a  x^3 \\exp(-b x^2)$\n",
    "a = 0.0702914 \n",
    "b = 0.0982941, this gives $\\omega_{b}$ = 2.25 meV"
   ]
  },
  {
   "cell_type": "code",
   "execution_count": 4,
   "metadata": {},
   "outputs": [
    {
     "name": "stdout",
     "output_type": "stream",
     "text": [
      "The reorganization energy, λ (numerical) is 25.339511894209824 meV\n"
     ]
    },
    {
     "data": {
      "image/png": "[encoded data removed]",
      "text/plain": [
       "<Figure size 432x288 with 1 Axes>"
      ]
     },
     "metadata": {
      "needs_background": "light"
     },
     "output_type": "display_data"
    }
   ],
   "source": [
    "import numpy as np\n",
    "import matplotlib.pyplot as plt\n",
    "\n",
    "ω = np.linspace(0.0001,0.08,200)/27.2114\n",
    "# spectral density\n",
    "def JLA(ω):\n",
    "    ps = 41341.374575751\n",
    "    a = 1.41586e+12\n",
    "    α  =  (2.4 * ps**2.0)\n",
    "    r  =  α /a\n",
    "    ωb = 0.002255/27.2114\n",
    "    #* 4.0 * np.pi **2.0 \n",
    "    return  α * (ω ** 3.0) * np.exp(-ω**2.0/(2.0 * ωb**2.0))\n",
    " \n",
    "fig = plt.figure()\n",
    "splt = fig.add_subplot(111)\n",
    "splt.set_ylabel('J(ω) ')\n",
    "splt.set_xlabel('ω (meV)')\n",
    " \n",
    "splt.plot(ω*27.2114 * 1000, JLA(ω), c=\"#ff6b6b\")\n",
    "plt.xlim(0,30)\n",
    "\n",
    "print ( \"The reorganization energy, λ (numerical) is\", (1/np.pi)* np.sum(JLA(ω)/ω)* (ω[1]-ω[0]) * 27.2114 * 1000, \"meV\")\n"
   ]
  },
  {
   "cell_type": "code",
   "execution_count": 7,
   "metadata": {},
   "outputs": [
    {
     "name": "stdout",
     "output_type": "stream",
     "text": [
      "Total Reorganization Energy = 25.341305749349175 meV\n"
     ]
    },
    {
     "data": {
      "text/plain": [
       "<matplotlib.legend.Legend at 0x7f9fd8b018e0>"
      ]
     },
     "execution_count": 7,
     "metadata": {},
     "output_type": "execute_result"
    },
    {
     "data": {
      "image/png": "[encoded data removed]",
      "text/plain": [
       "<Figure size 432x288 with 1 Axes>"
      ]
     },
     "metadata": {
      "needs_background": "light"
     },
     "output_type": "display_data"
    }
   ],
   "source": [
    "# Get LA phonons\n",
    "ωj , cj = discretize1(300, JLA, np.linspace(0.00001,0.07,300000)/27.2114)  \n",
    "λs =  (np.sum( (1/2) * (cj**2.0) / (ωj**2) * 27.2114) )\n",
    "print(f\"Total Reorganization Energy = {λs * 1000} meV\")\n",
    "\n",
    "dωj = ωj - np.roll(ωj,1) # Note that each mode is spread over dωj\n",
    "plt.plot(ωj * 27.2114 * 1000, np.pi/2 *  cj**2/ωj/dωj, label = 'Discritized')\n",
    "plt.plot(ωj * 27.2114 * 1000,  JLA(ωj), label = 'Original')\n",
    "plt.legend()"
   ]
  },
  {
   "cell_type": "code",
   "execution_count": null,
   "metadata": {},
   "outputs": [],
   "source": []
  }
 ],
 "metadata": {
  "interpreter": {
   "hash": "40d3a090f54c6569ab1632332b64b2c03c39dcf918b08424e98f38b5ae0af88f"
  },
  "kernelspec": {
   "display_name": "Python 3.8.8 64-bit ('base': conda)",
   "name": "python3"
  },
  "language_info": {
   "codemirror_mode": {
    "name": "ipython",
    "version": 3
   },
   "file_extension": ".py",
   "mimetype": "text/x-python",
   "name": "python",
   "nbconvert_exporter": "python",
   "pygments_lexer": "ipython3",
   "version": "3.8.8"
  }
 },
 "nbformat": 4,
 "nbformat_minor": 2
}
